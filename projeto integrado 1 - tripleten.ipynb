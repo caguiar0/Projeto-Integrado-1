{
 "cells": [
  {
   "cell_type": "markdown",
   "metadata": {},
   "source": [
    "<div>\n",
    "Olá, Caio!\n",
    "\n",
    "Meu nome é Luiz. Fico feliz em revisar seu projeto. Ao longo do texto farei algumas observações sobre melhorias no código e também farei comentários sobre suas percepções sobre o assunto. Estarei aberto a feedbacks e discussões sobre o tema.\n",
    "\n",
    "**Peço que mantenha e não altere os comentários que eu fizer por aqui para que possamos nos localizar posteriormente, ok?**\n",
    "\n",
    "Mais uma coisa, vamos utilizar um código de cores para você entender o meu feedback no seu notebook. Funciona assim:\n",
    "\n",
    "<div class=\"alert alert-block alert-success\">\n",
    "<b> Comentário do revisor: </b> <a class=\"tocSkip\"></a>\n",
    "\n",
    "Sucesso. Tudo foi feito corretamente.\n",
    "</div>\n",
    "\n",
    "<div class=\"alert alert-block alert-warning\">\n",
    "<b>Comentário do revisor: </b> <a class=\"tocSkip\"></a>\n",
    "\n",
    "Alerta não crítico, mas que pode ser corrigido para melhoria geral no seu código/análise.\n",
    "</div>\n",
    "\n",
    "<div class=\"alert alert-block alert-danger\">\n",
    "\n",
    "<b>Comentário do revisor: </b> <a class=\"tocSkip\"></a>\n",
    "    \n",
    "Erro que precisa ser arrumado, caso contrário seu projeto **não** será aceito.\n",
    "</div>\n",
    "\n",
    "Você pode interagir comigo através dessa célula:\n",
    "<div class=\"alert alert-block alert-info\">\n",
    "<b>Resposta do Aluno.</b> <a class=\"tocSkip\"></a>\n",
    "</div>"
   ]
  },
  {
   "cell_type": "markdown",
   "metadata": {},
   "source": [
    "<div class=\"alert alert-block alert-danger\">\n",
    "<b> Comentário do revisor v1 </b> <a class=\"tocSkip\"></a>\n",
    "<s>\n",
    "Obrigado por enviar o seu projeto e pelo esforço para executar as etapas necessárias.   \n",
    "<br>\n",
    "    \n",
    "Essa versão do seu trabalho ficou muito boa, parabéns pelo esforço. Entretanto, deixei alguns comentários em **vermelho** em trechos que precisam de pequenos ajustes. Peço que trabalhe nesses pontos antes de seguirmos. \n",
    "    \n",
    "<br>\n",
    "    \n",
    "Se tiver alguma dúvida, pode contar comigo.\n",
    "    \n",
    "<br>   \n",
    "\n",
    "**Até breve!**\n",
    "</s>\n",
    "</div>"
   ]
  },
  {
   "cell_type": "markdown",
   "metadata": {},
   "source": [
    "<div class=\"alert alert-block alert-success\">\n",
    "<b> Comentário geral do revisor v2</b> <a class=\"tocSkip\"></a>\n",
    "\n",
    "Obrigado por enviar o seu projeto e fazer os ajustes sugeridos. Essa versão do seu trabalho ficou muito melhor! Espero que as sugestões sejam relevantes para projetos futuros.\n",
    "    \n",
    "<br>\n",
    "Te desejo uma jornada de muito sucesso e aprendizado.\n",
    "    \n",
    "<br>   \n",
    "    \n",
    "Qualquer dúvida, pode contar comigo.   \n",
    "    \n",
    "<br>  \n",
    "    \n",
    "**Até breve!**\n",
    "\n",
    "</div>"
   ]
  },
  {
   "cell_type": "code",
   "execution_count": 35,
   "metadata": {},
   "outputs": [],
   "source": [
    "#importando bibliotecas\n",
    "import pandas as pd\n",
    "import numpy as np\n",
    "from matplotlib import pyplot as plt\n",
    "import seaborn as sns\n",
    "import scipy.stats as st"
   ]
  },
  {
   "cell_type": "code",
   "execution_count": 36,
   "metadata": {},
   "outputs": [
    {
     "data": {
      "text/html": [
       "<div>\n",
       "<style scoped>\n",
       "    .dataframe tbody tr th:only-of-type {\n",
       "        vertical-align: middle;\n",
       "    }\n",
       "\n",
       "    .dataframe tbody tr th {\n",
       "        vertical-align: top;\n",
       "    }\n",
       "\n",
       "    .dataframe thead th {\n",
       "        text-align: right;\n",
       "    }\n",
       "</style>\n",
       "<table border=\"1\" class=\"dataframe\">\n",
       "  <thead>\n",
       "    <tr style=\"text-align: right;\">\n",
       "      <th></th>\n",
       "      <th>Name</th>\n",
       "      <th>Platform</th>\n",
       "      <th>Year_of_Release</th>\n",
       "      <th>Genre</th>\n",
       "      <th>NA_sales</th>\n",
       "      <th>EU_sales</th>\n",
       "      <th>JP_sales</th>\n",
       "      <th>Other_sales</th>\n",
       "      <th>Critic_Score</th>\n",
       "      <th>User_Score</th>\n",
       "      <th>Rating</th>\n",
       "    </tr>\n",
       "  </thead>\n",
       "  <tbody>\n",
       "    <tr>\n",
       "      <th>0</th>\n",
       "      <td>Wii Sports</td>\n",
       "      <td>Wii</td>\n",
       "      <td>2006.0</td>\n",
       "      <td>Sports</td>\n",
       "      <td>41.36</td>\n",
       "      <td>28.96</td>\n",
       "      <td>3.77</td>\n",
       "      <td>8.45</td>\n",
       "      <td>76.0</td>\n",
       "      <td>8</td>\n",
       "      <td>E</td>\n",
       "    </tr>\n",
       "    <tr>\n",
       "      <th>1</th>\n",
       "      <td>Super Mario Bros.</td>\n",
       "      <td>NES</td>\n",
       "      <td>1985.0</td>\n",
       "      <td>Platform</td>\n",
       "      <td>29.08</td>\n",
       "      <td>3.58</td>\n",
       "      <td>6.81</td>\n",
       "      <td>0.77</td>\n",
       "      <td>NaN</td>\n",
       "      <td>NaN</td>\n",
       "      <td>NaN</td>\n",
       "    </tr>\n",
       "    <tr>\n",
       "      <th>2</th>\n",
       "      <td>Mario Kart Wii</td>\n",
       "      <td>Wii</td>\n",
       "      <td>2008.0</td>\n",
       "      <td>Racing</td>\n",
       "      <td>15.68</td>\n",
       "      <td>12.76</td>\n",
       "      <td>3.79</td>\n",
       "      <td>3.29</td>\n",
       "      <td>82.0</td>\n",
       "      <td>8.3</td>\n",
       "      <td>E</td>\n",
       "    </tr>\n",
       "    <tr>\n",
       "      <th>3</th>\n",
       "      <td>Wii Sports Resort</td>\n",
       "      <td>Wii</td>\n",
       "      <td>2009.0</td>\n",
       "      <td>Sports</td>\n",
       "      <td>15.61</td>\n",
       "      <td>10.93</td>\n",
       "      <td>3.28</td>\n",
       "      <td>2.95</td>\n",
       "      <td>80.0</td>\n",
       "      <td>8</td>\n",
       "      <td>E</td>\n",
       "    </tr>\n",
       "    <tr>\n",
       "      <th>4</th>\n",
       "      <td>Pokemon Red/Pokemon Blue</td>\n",
       "      <td>GB</td>\n",
       "      <td>1996.0</td>\n",
       "      <td>Role-Playing</td>\n",
       "      <td>11.27</td>\n",
       "      <td>8.89</td>\n",
       "      <td>10.22</td>\n",
       "      <td>1.00</td>\n",
       "      <td>NaN</td>\n",
       "      <td>NaN</td>\n",
       "      <td>NaN</td>\n",
       "    </tr>\n",
       "  </tbody>\n",
       "</table>\n",
       "</div>"
      ],
      "text/plain": [
       "                       Name Platform  Year_of_Release         Genre  NA_sales  \\\n",
       "0                Wii Sports      Wii           2006.0        Sports     41.36   \n",
       "1         Super Mario Bros.      NES           1985.0      Platform     29.08   \n",
       "2            Mario Kart Wii      Wii           2008.0        Racing     15.68   \n",
       "3         Wii Sports Resort      Wii           2009.0        Sports     15.61   \n",
       "4  Pokemon Red/Pokemon Blue       GB           1996.0  Role-Playing     11.27   \n",
       "\n",
       "   EU_sales  JP_sales  Other_sales  Critic_Score User_Score Rating  \n",
       "0     28.96      3.77         8.45          76.0          8      E  \n",
       "1      3.58      6.81         0.77           NaN        NaN    NaN  \n",
       "2     12.76      3.79         3.29          82.0        8.3      E  \n",
       "3     10.93      3.28         2.95          80.0          8      E  \n",
       "4      8.89     10.22         1.00           NaN        NaN    NaN  "
      ]
     },
     "execution_count": 36,
     "metadata": {},
     "output_type": "execute_result"
    }
   ],
   "source": [
    "#lendo arquivo\n",
    "games = pd.read_csv('/datasets/games.csv')\n",
    "games.head()"
   ]
  },
  {
   "cell_type": "markdown",
   "metadata": {},
   "source": [
    "<div class=\"alert alert-block alert-success\">\n",
    "<b> Comentário do revisor: </b> <a class=\"tocSkip\"></a>\n",
    "    \n",
    "- O conjunto de dados foi carregado corretamente\n",
    "- O import das bibliotecas foi feito de forma correta e em uma célula separada\n",
    "- O método `head()` foi utilizado para estudo inicial do conjunto de dados\n",
    "</div>\n"
   ]
  },
  {
   "cell_type": "code",
   "execution_count": 37,
   "metadata": {},
   "outputs": [
    {
     "name": "stdout",
     "output_type": "stream",
     "text": [
      "Index(['name', 'platform', 'year_of_release', 'genre', 'na_sales', 'eu_sales',\n",
      "       'jp_sales', 'other_sales', 'critic_score', 'user_score', 'rating'],\n",
      "      dtype='object')\n",
      "<class 'pandas.core.frame.DataFrame'>\n",
      "RangeIndex: 16715 entries, 0 to 16714\n",
      "Data columns (total 11 columns):\n",
      " #   Column           Non-Null Count  Dtype  \n",
      "---  ------           --------------  -----  \n",
      " 0   name             16713 non-null  object \n",
      " 1   platform         16715 non-null  object \n",
      " 2   year_of_release  16446 non-null  float64\n",
      " 3   genre            16713 non-null  object \n",
      " 4   na_sales         16715 non-null  float64\n",
      " 5   eu_sales         16715 non-null  float64\n",
      " 6   jp_sales         16715 non-null  float64\n",
      " 7   other_sales      16715 non-null  float64\n",
      " 8   critic_score     8137 non-null   float64\n",
      " 9   user_score       10014 non-null  object \n",
      " 10  rating           9949 non-null   object \n",
      "dtypes: float64(6), object(5)\n",
      "memory usage: 1.4+ MB\n"
     ]
    }
   ],
   "source": [
    "#Transformando o nome das colunas me minusculas\n",
    "games.columns = games.columns.str.lower()\n",
    "print(games.columns)\n",
    "games.head()\n",
    "games.info()"
   ]
  },
  {
   "cell_type": "markdown",
   "metadata": {},
   "source": [
    "<div class=\"alert alert-block alert-success\">\n",
    "<b> Comentário do revisor: </b> <a class=\"tocSkip\"></a>\n",
    "    \n",
    "- As nomes das colunas foram convertidos para `lowercase` de forma automatizada usando `.str.lower()`\n",
    "- O método `info()` foi utilizado para imprimir informações sobre o conjunto de dados\n",
    "</div>\n"
   ]
  },
  {
   "cell_type": "code",
   "execution_count": 38,
   "metadata": {},
   "outputs": [
    {
     "name": "stdout",
     "output_type": "stream",
     "text": [
      "<class 'pandas.core.frame.DataFrame'>\n",
      "RangeIndex: 16715 entries, 0 to 16714\n",
      "Data columns (total 11 columns):\n",
      " #   Column           Non-Null Count  Dtype  \n",
      "---  ------           --------------  -----  \n",
      " 0   name             16713 non-null  object \n",
      " 1   platform         16715 non-null  object \n",
      " 2   year_of_release  16446 non-null  float64\n",
      " 3   genre            16713 non-null  object \n",
      " 4   na_sales         16715 non-null  float64\n",
      " 5   eu_sales         16715 non-null  float64\n",
      " 6   jp_sales         16715 non-null  float64\n",
      " 7   other_sales      16715 non-null  float64\n",
      " 8   critic_score     8137 non-null   float64\n",
      " 9   user_score       7590 non-null   float64\n",
      " 10  rating           9949 non-null   object \n",
      "dtypes: float64(7), object(4)\n",
      "memory usage: 1.4+ MB\n"
     ]
    }
   ],
   "source": [
    "#Alterando dados necessarios\n",
    "games['user_score'] = pd.to_numeric(games['user_score'], errors = 'coerce')\n",
    "games.info()"
   ]
  },
  {
   "cell_type": "markdown",
   "metadata": {},
   "source": [
    "<div class=\"alert alert-block alert-success\">\n",
    "<b> Comentário do revisor: </b> <a class=\"tocSkip\"></a>\n",
    "    \n",
    "- O atributo `user_score` foi convertido para o tipo numérico\n",
    "</div>\n"
   ]
  },
  {
   "cell_type": "code",
   "execution_count": 39,
   "metadata": {},
   "outputs": [
    {
     "data": {
      "text/html": [
       "<div>\n",
       "<style scoped>\n",
       "    .dataframe tbody tr th:only-of-type {\n",
       "        vertical-align: middle;\n",
       "    }\n",
       "\n",
       "    .dataframe tbody tr th {\n",
       "        vertical-align: top;\n",
       "    }\n",
       "\n",
       "    .dataframe thead th {\n",
       "        text-align: right;\n",
       "    }\n",
       "</style>\n",
       "<table border=\"1\" class=\"dataframe\">\n",
       "  <thead>\n",
       "    <tr style=\"text-align: right;\">\n",
       "      <th></th>\n",
       "      <th>name</th>\n",
       "      <th>platform</th>\n",
       "      <th>year_of_release</th>\n",
       "      <th>genre</th>\n",
       "      <th>na_sales</th>\n",
       "      <th>eu_sales</th>\n",
       "      <th>jp_sales</th>\n",
       "      <th>other_sales</th>\n",
       "      <th>critic_score</th>\n",
       "      <th>user_score</th>\n",
       "      <th>rating</th>\n",
       "      <th>total_sales</th>\n",
       "    </tr>\n",
       "  </thead>\n",
       "  <tbody>\n",
       "    <tr>\n",
       "      <th>0</th>\n",
       "      <td>Wii Sports</td>\n",
       "      <td>Wii</td>\n",
       "      <td>2006.0</td>\n",
       "      <td>Sports</td>\n",
       "      <td>41.36</td>\n",
       "      <td>28.96</td>\n",
       "      <td>3.77</td>\n",
       "      <td>8.45</td>\n",
       "      <td>76.0</td>\n",
       "      <td>8.0</td>\n",
       "      <td>E</td>\n",
       "      <td>82.54</td>\n",
       "    </tr>\n",
       "    <tr>\n",
       "      <th>1</th>\n",
       "      <td>Super Mario Bros.</td>\n",
       "      <td>NES</td>\n",
       "      <td>1985.0</td>\n",
       "      <td>Platform</td>\n",
       "      <td>29.08</td>\n",
       "      <td>3.58</td>\n",
       "      <td>6.81</td>\n",
       "      <td>0.77</td>\n",
       "      <td>NaN</td>\n",
       "      <td>NaN</td>\n",
       "      <td>NaN</td>\n",
       "      <td>40.24</td>\n",
       "    </tr>\n",
       "    <tr>\n",
       "      <th>2</th>\n",
       "      <td>Mario Kart Wii</td>\n",
       "      <td>Wii</td>\n",
       "      <td>2008.0</td>\n",
       "      <td>Racing</td>\n",
       "      <td>15.68</td>\n",
       "      <td>12.76</td>\n",
       "      <td>3.79</td>\n",
       "      <td>3.29</td>\n",
       "      <td>82.0</td>\n",
       "      <td>8.3</td>\n",
       "      <td>E</td>\n",
       "      <td>35.52</td>\n",
       "    </tr>\n",
       "    <tr>\n",
       "      <th>3</th>\n",
       "      <td>Wii Sports Resort</td>\n",
       "      <td>Wii</td>\n",
       "      <td>2009.0</td>\n",
       "      <td>Sports</td>\n",
       "      <td>15.61</td>\n",
       "      <td>10.93</td>\n",
       "      <td>3.28</td>\n",
       "      <td>2.95</td>\n",
       "      <td>80.0</td>\n",
       "      <td>8.0</td>\n",
       "      <td>E</td>\n",
       "      <td>32.77</td>\n",
       "    </tr>\n",
       "    <tr>\n",
       "      <th>4</th>\n",
       "      <td>Pokemon Red/Pokemon Blue</td>\n",
       "      <td>GB</td>\n",
       "      <td>1996.0</td>\n",
       "      <td>Role-Playing</td>\n",
       "      <td>11.27</td>\n",
       "      <td>8.89</td>\n",
       "      <td>10.22</td>\n",
       "      <td>1.00</td>\n",
       "      <td>NaN</td>\n",
       "      <td>NaN</td>\n",
       "      <td>NaN</td>\n",
       "      <td>31.38</td>\n",
       "    </tr>\n",
       "  </tbody>\n",
       "</table>\n",
       "</div>"
      ],
      "text/plain": [
       "                       name platform  year_of_release         genre  na_sales  \\\n",
       "0                Wii Sports      Wii           2006.0        Sports     41.36   \n",
       "1         Super Mario Bros.      NES           1985.0      Platform     29.08   \n",
       "2            Mario Kart Wii      Wii           2008.0        Racing     15.68   \n",
       "3         Wii Sports Resort      Wii           2009.0        Sports     15.61   \n",
       "4  Pokemon Red/Pokemon Blue       GB           1996.0  Role-Playing     11.27   \n",
       "\n",
       "   eu_sales  jp_sales  other_sales  critic_score  user_score rating  \\\n",
       "0     28.96      3.77         8.45          76.0         8.0      E   \n",
       "1      3.58      6.81         0.77           NaN         NaN    NaN   \n",
       "2     12.76      3.79         3.29          82.0         8.3      E   \n",
       "3     10.93      3.28         2.95          80.0         8.0      E   \n",
       "4      8.89     10.22         1.00           NaN         NaN    NaN   \n",
       "\n",
       "   total_sales  \n",
       "0        82.54  \n",
       "1        40.24  \n",
       "2        35.52  \n",
       "3        32.77  \n",
       "4        31.38  "
      ]
     },
     "execution_count": 39,
     "metadata": {},
     "output_type": "execute_result"
    }
   ],
   "source": [
    "#Criando nova coluna com o valor de vendas totais \n",
    "games['total_sales'] = games['na_sales'] + games['eu_sales'] + games['jp_sales'] + games['other_sales']\n",
    "games.head()"
   ]
  },
  {
   "cell_type": "markdown",
   "metadata": {},
   "source": [
    "<div class=\"alert alert-block alert-success\">\n",
    "<b> Comentário do revisor: </b> <a class=\"tocSkip\"></a>\n",
    "    \n",
    "- A receita total foi calculada e um novo atributo foi criado (`total_sales`)\n",
    "</div>\n"
   ]
  },
  {
   "cell_type": "code",
   "execution_count": 40,
   "metadata": {},
   "outputs": [
    {
     "name": "stdout",
     "output_type": "stream",
     "text": [
      "    year_of_release  count\n",
      "0            1980.0      9\n",
      "1            1981.0     46\n",
      "2            1982.0     36\n",
      "3            1983.0     17\n",
      "4            1984.0     14\n",
      "5            1985.0     14\n",
      "6            1986.0     21\n",
      "7            1987.0     16\n",
      "8            1988.0     15\n",
      "9            1989.0     17\n",
      "10           1990.0     16\n",
      "11           1991.0     41\n",
      "12           1992.0     43\n",
      "13           1993.0     62\n",
      "14           1994.0    121\n",
      "15           1995.0    219\n",
      "16           1996.0    263\n",
      "17           1997.0    289\n",
      "18           1998.0    379\n",
      "19           1999.0    338\n",
      "20           2000.0    350\n",
      "21           2001.0    482\n",
      "22           2002.0    829\n",
      "23           2003.0    775\n",
      "24           2004.0    762\n",
      "25           2005.0    939\n",
      "26           2006.0   1006\n",
      "27           2007.0   1197\n",
      "28           2008.0   1427\n",
      "29           2009.0   1426\n",
      "30           2010.0   1255\n",
      "31           2011.0   1136\n",
      "32           2012.0    653\n",
      "33           2013.0    544\n",
      "34           2014.0    581\n",
      "35           2015.0    606\n",
      "36           2016.0    502\n"
     ]
    }
   ],
   "source": [
    "#Quantidade de jogos lançados em determinados anos\n",
    "games_by_year = games.groupby('year_of_release').size().reset_index(name='count')\n",
    "print(games_by_year)"
   ]
  },
  {
   "cell_type": "markdown",
   "metadata": {},
   "source": [
    "<div class=\"alert alert-block alert-success\">\n",
    "<b> Comentário do revisor: </b> <a class=\"tocSkip\"></a>\n",
    "    \n",
    "- A quantidade de jogos lançados por ano foi analisada\n",
    "</div>\n"
   ]
  },
  {
   "cell_type": "code",
   "execution_count": 41,
   "metadata": {},
   "outputs": [
    {
     "name": "stdout",
     "output_type": "stream",
     "text": [
      "   platform  games_realese\n",
      "0      2600            133\n",
      "1       3DO              3\n",
      "2       3DS            520\n",
      "3        DC             52\n",
      "4        DS           2151\n",
      "5        GB             98\n",
      "6       GBA            822\n",
      "7        GC            556\n",
      "8       GEN             29\n",
      "9        GG              1\n",
      "10      N64            319\n",
      "11      NES             98\n",
      "12       NG             12\n",
      "13       PC            974\n",
      "14     PCFX              1\n",
      "15       PS           1197\n",
      "16      PS2           2161\n",
      "17      PS3           1331\n",
      "18      PS4            392\n",
      "19      PSP           1209\n",
      "20      PSV            430\n",
      "21      SAT            173\n",
      "22      SCD              6\n",
      "23     SNES            239\n",
      "24     TG16              2\n",
      "25       WS              6\n",
      "26      Wii           1320\n",
      "27     WiiU            147\n",
      "28     X360           1262\n",
      "29       XB            824\n",
      "30     XOne            247\n"
     ]
    }
   ],
   "source": [
    "# Quantidade de jogos por plataforma\n",
    "games_by_platform = games.groupby('platform').size().reset_index(name='games_realese')\n",
    "print(games_by_platform)"
   ]
  },
  {
   "cell_type": "markdown",
   "metadata": {},
   "source": [
    "<div class=\"alert alert-block alert-success\">\n",
    "<b> Comentário do revisor: </b> <a class=\"tocSkip\"></a>\n",
    "    \n",
    "- A quantidade de jogos por plataforma foi estudada\n",
    "</div>\n"
   ]
  },
  {
   "cell_type": "code",
   "execution_count": 42,
   "metadata": {},
   "outputs": [
    {
     "name": "stdout",
     "output_type": "stream",
     "text": [
      "   platform  total_sales\n",
      "0      2600        96.98\n",
      "1       3DO         0.10\n",
      "2       3DS       259.00\n",
      "3        DC        15.95\n",
      "4        DS       806.12\n",
      "5        GB       255.46\n",
      "6       GBA       317.85\n",
      "7        GC       198.93\n",
      "8       GEN        30.77\n",
      "9        GG         0.04\n",
      "10      N64       218.68\n",
      "11      NES       251.05\n",
      "12       NG         1.44\n",
      "13       PC       259.52\n",
      "14     PCFX         0.03\n",
      "15       PS       730.86\n",
      "16      PS2      1255.77\n",
      "17      PS3       939.65\n",
      "18      PS4       314.14\n",
      "19      PSP       294.05\n",
      "20      PSV        54.07\n",
      "21      SAT        33.59\n",
      "22      SCD         1.86\n",
      "23     SNES       200.04\n",
      "24     TG16         0.16\n",
      "25       WS         1.42\n",
      "26      Wii       907.51\n",
      "27     WiiU        82.19\n",
      "28     X360       971.42\n",
      "29       XB       257.74\n",
      "30     XOne       159.32\n"
     ]
    }
   ],
   "source": [
    "#Total de vendas de jogos por plataforma\n",
    "games_by_platform = games.groupby('platform')['total_sales'].sum().reset_index(name= 'total_sales')\n",
    "print(games_by_platform)"
   ]
  },
  {
   "cell_type": "markdown",
   "metadata": {},
   "source": [
    "<div class=\"alert alert-block alert-success\">\n",
    "<b> Comentário do revisor: </b> <a class=\"tocSkip\"></a>\n",
    "\n",
    "A receita geral por plataforma foi calculada corretamente!\n",
    "</div>"
   ]
  },
  {
   "cell_type": "code",
   "execution_count": 43,
   "metadata": {},
   "outputs": [
    {
     "name": "stdout",
     "output_type": "stream",
     "text": [
      "   platform  total_sales\n",
      "16      PS2      1255.77\n",
      "28     X360       971.42\n",
      "17      PS3       939.65\n",
      "26      Wii       907.51\n",
      "4        DS       806.12\n",
      "15       PS       730.86\n",
      "6       GBA       317.85\n",
      "18      PS4       314.14\n",
      "19      PSP       294.05\n",
      "13       PC       259.52\n",
      "2       3DS       259.00\n",
      "29       XB       257.74\n",
      "5        GB       255.46\n",
      "11      NES       251.05\n",
      "10      N64       218.68\n",
      "23     SNES       200.04\n",
      "7        GC       198.93\n",
      "30     XOne       159.32\n",
      "0      2600        96.98\n",
      "27     WiiU        82.19\n",
      "20      PSV        54.07\n",
      "21      SAT        33.59\n",
      "8       GEN        30.77\n",
      "3        DC        15.95\n",
      "22      SCD         1.86\n",
      "12       NG         1.44\n",
      "25       WS         1.42\n",
      "24     TG16         0.16\n",
      "1       3DO         0.10\n",
      "9        GG         0.04\n",
      "14     PCFX         0.03\n"
     ]
    }
   ],
   "source": [
    "#Colocando a tabela acima em ordem decrescente de valores de vendas totais\n",
    "games_by_platform_sort = games_by_platform.sort_values(by='total_sales', ascending=False)\n",
    "print(games_by_platform_sort)"
   ]
  },
  {
   "cell_type": "code",
   "execution_count": 44,
   "metadata": {},
   "outputs": [],
   "source": [
    "games_filtered_hight = ['PS2', 'X360', 'PS3', 'Wii', 'DS']\n",
    "\n",
    "games_maiores = games[games['platform'].isin(games_filtered_hight)].query('year_of_release >= 2000')"
   ]
  },
  {
   "cell_type": "code",
   "execution_count": 45,
   "metadata": {
    "scrolled": false
   },
   "outputs": [
    {
     "data": {
      "image/png": "[encoded data removed]",
      "text/plain": [
       "<Figure size 432x288 with 1 Axes>"
      ]
     },
     "metadata": {
      "needs_background": "light"
     },
     "output_type": "display_data"
    }
   ],
   "source": [
    "group_games = games_maiores.groupby(['platform', 'year_of_release'])['total_sales'].mean().reset_index().pivot(index='year_of_release',\n",
    "                                                                                                        columns='platform',\n",
    "                                                                                                        values='total_sales')\n",
    "group_games.plot(\n",
    "                 xlabel='Year',\n",
    "                 ylabel='Sales',\n",
    "                 kind = 'line',\n",
    "                 title='Vendas totais de cada plataforma por ano')\n",
    "\n",
    "plt.show()"
   ]
  },
  {
   "cell_type": "code",
   "execution_count": 76,
   "metadata": {
    "scrolled": true
   },
   "outputs": [],
   "source": [
    "#Tempo de vida medio de uma plataforma\n",
    "games_sales = games.groupby(['platform', 'year_of_release'])['total_sales'].sum().reset_index()"
   ]
  },
  {
   "cell_type": "code",
   "execution_count": 66,
   "metadata": {},
   "outputs": [],
   "source": [
    "first_sale = games_sales.groupby('platform')['year_of_release'].min()"
   ]
  },
  {
   "cell_type": "code",
   "execution_count": 67,
   "metadata": {},
   "outputs": [],
   "source": [
    "last_sale = games_sales.groupby('platform')['year_of_release'].max()"
   ]
  },
  {
   "cell_type": "code",
   "execution_count": 68,
   "metadata": {},
   "outputs": [],
   "source": [
    "peak_sale = games_sales.loc[games_sales.groupby('platform')['total_sales'].idxmax()].set_index('platform')['year_of_release']"
   ]
  },
  {
   "cell_type": "code",
   "execution_count": 72,
   "metadata": {
    "scrolled": false
   },
   "outputs": [
    {
     "name": "stdout",
     "output_type": "stream",
     "text": [
      "platform\n",
      "2600     9.0\n",
      "3DO      1.0\n",
      "3DS      5.0\n",
      "DC      10.0\n",
      "DS      28.0\n",
      "GB      13.0\n",
      "GBA      7.0\n",
      "GC       6.0\n",
      "GEN      4.0\n",
      "GG       0.0\n",
      "N64      6.0\n",
      "NES     11.0\n",
      "NG       3.0\n",
      "PC      31.0\n",
      "PCFX     0.0\n",
      "PS       9.0\n",
      "PS2     11.0\n",
      "PS3     10.0\n",
      "PS4      3.0\n",
      "PSP     11.0\n",
      "PSV      5.0\n",
      "SAT      5.0\n",
      "SCD      1.0\n",
      "SNES     9.0\n",
      "TG16     0.0\n",
      "WS       2.0\n",
      "Wii     10.0\n",
      "WiiU     4.0\n",
      "X360    11.0\n",
      "XB       8.0\n",
      "XOne     3.0\n",
      "Name: year_of_release, dtype: float64\n"
     ]
    }
   ],
   "source": [
    "diferença = last_sale - first_sale\n",
    "print(diferença)"
   ]
  },
  {
   "cell_type": "code",
   "execution_count": 77,
   "metadata": {},
   "outputs": [],
   "source": [
    "#Tempo que demora para uma plataforma alcançar seu pico\n",
    "peak_sale = games_sales.loc[games_sales.groupby('platform')['total_sales'].idxmax()].set_index('platform')['year_of_release']"
   ]
  },
  {
   "cell_type": "code",
   "execution_count": 75,
   "metadata": {},
   "outputs": [
    {
     "name": "stdout",
     "output_type": "stream",
     "text": [
      "platform\n",
      "2600     1.0\n",
      "3DO      1.0\n",
      "3DS      0.0\n",
      "DC       2.0\n",
      "DS      22.0\n",
      "GB       1.0\n",
      "GBA      4.0\n",
      "GC       1.0\n",
      "GEN      2.0\n",
      "GG       0.0\n",
      "N64      3.0\n",
      "NES      2.0\n",
      "NG       1.0\n",
      "PC      26.0\n",
      "PCFX     0.0\n",
      "PS       4.0\n",
      "PS2      4.0\n",
      "PS3      5.0\n",
      "PS4      2.0\n",
      "PSP      2.0\n",
      "PSV      1.0\n",
      "SAT      1.0\n",
      "SCD      0.0\n",
      "SNES     3.0\n",
      "TG16     0.0\n",
      "WS       1.0\n",
      "Wii      3.0\n",
      "WiiU     2.0\n",
      "X360     5.0\n",
      "XB       4.0\n",
      "XOne     2.0\n",
      "Name: year_of_release, dtype: float64\n"
     ]
    }
   ],
   "source": [
    "diferença_peaksales = peak_sale - first_sale\n",
    "print(diferença_topsales)"
   ]
  },
  {
   "cell_type": "markdown",
   "metadata": {},
   "source": [
    "<div class=\"alert alert-block alert-danger\">\n",
    "<b> Comentário do revisor: </b> <a class=\"tocSkip\"></a>\n",
    "<s>\n",
    "Nessa etapa, você precisa também estudar o ciclo de vida médio das plataformas. Sugestão:\n",
    "   \n",
    "- 1. Qual o ciclo de vida médio das plataformas? Para isso, você precisa calcular o intervalo entre primeiro e último lançamentos por plataforma e calcular a diferença em anos. Você pode calcular a média e também plotar a distribuição desse atributo\n",
    "- 2. Quanto tempo leva para uma plataforma atingir o seu pico? Você pode responder à essa pergunta fazendo cálculo parecido. Por exemplo, desde o primeiro lançamento, quanto tempo, em média, leva para uma plataforma atinger o máximo de vendas? \n",
    "</s>\n",
    "</div>"
   ]
  },
  {
   "cell_type": "markdown",
   "metadata": {},
   "source": [
    "<div class=\"alert alert-block alert-warning\">\n",
    "<b> Comentário do revisor v2: </b> <a class=\"tocSkip\"></a>\n",
    "\n",
    "Sugestão: Evite usar caracteres especiais em nomes de atributos no python.\n",
    "</div>"
   ]
  },
  {
   "cell_type": "code",
   "execution_count": 13,
   "metadata": {},
   "outputs": [],
   "source": [
    "games_recent = games.query('year_of_release >= 2013')"
   ]
  },
  {
   "cell_type": "code",
   "execution_count": 14,
   "metadata": {
    "scrolled": true
   },
   "outputs": [
    {
     "data": {
      "image/png": "[encoded data removed]",
      "text/plain": [
       "<Figure size 432x288 with 1 Axes>"
      ]
     },
     "metadata": {
      "needs_background": "light"
     },
     "output_type": "display_data"
    }
   ],
   "source": [
    "group_games = games_recent.groupby(['platform', 'year_of_release'])['total_sales'].mean().reset_index().pivot(index='year_of_release',\n",
    "                                                                                                        columns='platform',\n",
    "                                                                                                        values='total_sales')\n",
    "group_games.plot(\n",
    "                 xlabel='Year',\n",
    "                 ylabel='Sales',\n",
    "                 kind = 'line',\n",
    "                 title='Vendas totais de cada plataforma por ano')\n",
    "\n",
    "plt.legend(loc='center left', bbox_to_anchor=(1, 0.5))\n",
    "plt.show()"
   ]
  },
  {
   "cell_type": "markdown",
   "metadata": {},
   "source": [
    "<div class=\"alert alert-block alert-success\">\n",
    "<b> Comentário do revisor: </b> <a class=\"tocSkip\"></a>\n",
    "\n",
    "O filtro de período foi executado corretamente. Bom trabalho fazendo o filtro >= `2013`\n",
    "</div>"
   ]
  },
  {
   "cell_type": "markdown",
   "metadata": {},
   "source": [
    "As vendadas de todos os video games estao em queda"
   ]
  },
  {
   "cell_type": "code",
   "execution_count": 15,
   "metadata": {},
   "outputs": [
    {
     "name": "stdout",
     "output_type": "stream",
     "text": [
      "platform\n",
      "PS4     314.14\n",
      "PS3     181.43\n",
      "XOne    159.32\n",
      "3DS     143.25\n",
      "X360    136.80\n",
      "WiiU     64.63\n",
      "PC       39.43\n",
      "PSV      32.99\n",
      "Wii      13.66\n",
      "PSP       3.50\n",
      "DS        1.54\n",
      "Name: total_sales, dtype: float64\n"
     ]
    }
   ],
   "source": [
    "games_more_sales = games_recent.groupby('platform')['total_sales'].sum().sort_values(ascending=False)\n",
    "print(games_more_sales)"
   ]
  },
  {
   "cell_type": "markdown",
   "metadata": {},
   "source": [
    "O mais vendido entre 2016 e 2013 foi o PS4"
   ]
  },
  {
   "cell_type": "code",
   "execution_count": 16,
   "metadata": {
    "scrolled": false
   },
   "outputs": [
    {
     "data": {
      "text/plain": [
       "<AxesSubplot:xlabel='platform', ylabel='total_sales'>"
      ]
     },
     "execution_count": 16,
     "metadata": {},
     "output_type": "execute_result"
    },
    {
     "data": {
      "image/png": "[encoded data removed]",
      "text/plain": [
       "<Figure size 720x504 with 1 Axes>"
      ]
     },
     "metadata": {
      "needs_background": "light"
     },
     "output_type": "display_data"
    }
   ],
   "source": [
    "plt.figure(figsize=(10,7))\n",
    "sns.boxplot(x = 'platform', y = 'total_sales', data = games_recent)"
   ]
  },
  {
   "cell_type": "markdown",
   "metadata": {},
   "source": [
    "<div class=\"alert alert-block alert-warning\">\n",
    "<b> Comentário do revisor: </b> <a class=\"tocSkip\"></a>\n",
    "\n",
    "A distribuição de vendas por plataformas foi analisada usando um gráfico de caixas (boxplots). Sugestão: aqui você poderia adicionar um título ao gráfico acima.\n",
    "</div>"
   ]
  },
  {
   "cell_type": "code",
   "execution_count": 17,
   "metadata": {},
   "outputs": [
    {
     "data": {
      "text/plain": [
       "<AxesSubplot:xlabel='total_sales', ylabel='critic_score'>"
      ]
     },
     "execution_count": 17,
     "metadata": {},
     "output_type": "execute_result"
    },
    {
     "data": {
      "image/png": "[encoded data removed]",
      "text/plain": [
       "<Figure size 432x288 with 1 Axes>"
      ]
     },
     "metadata": {
      "needs_background": "light"
     },
     "output_type": "display_data"
    }
   ],
   "source": [
    "fitered_ps4 = games_recent.query('platform == \"PS4\"')\n",
    "sns.scatterplot(x = 'total_sales', y = 'critic_score', data = fitered_ps4)"
   ]
  },
  {
   "cell_type": "code",
   "execution_count": 18,
   "metadata": {
    "scrolled": true
   },
   "outputs": [
    {
     "data": {
      "text/plain": [
       "<AxesSubplot:xlabel='total_sales', ylabel='user_score'>"
      ]
     },
     "execution_count": 18,
     "metadata": {},
     "output_type": "execute_result"
    },
    {
     "data": {
      "image/png": "[encoded data removed]",
      "text/plain": [
       "<Figure size 432x288 with 1 Axes>"
      ]
     },
     "metadata": {
      "needs_background": "light"
     },
     "output_type": "display_data"
    }
   ],
   "source": [
    "sns.scatterplot(x = 'total_sales', y = 'user_score', data = fitered_ps4 )"
   ]
  },
  {
   "cell_type": "code",
   "execution_count": 19,
   "metadata": {
    "scrolled": true
   },
   "outputs": [
    {
     "data": {
      "text/html": [
       "<div>\n",
       "<style scoped>\n",
       "    .dataframe tbody tr th:only-of-type {\n",
       "        vertical-align: middle;\n",
       "    }\n",
       "\n",
       "    .dataframe tbody tr th {\n",
       "        vertical-align: top;\n",
       "    }\n",
       "\n",
       "    .dataframe thead th {\n",
       "        text-align: right;\n",
       "    }\n",
       "</style>\n",
       "<table border=\"1\" class=\"dataframe\">\n",
       "  <thead>\n",
       "    <tr style=\"text-align: right;\">\n",
       "      <th></th>\n",
       "      <th>total_sales</th>\n",
       "      <th>user_score</th>\n",
       "      <th>critic_score</th>\n",
       "    </tr>\n",
       "  </thead>\n",
       "  <tbody>\n",
       "    <tr>\n",
       "      <th>total_sales</th>\n",
       "      <td>1.000000</td>\n",
       "      <td>-0.031957</td>\n",
       "      <td>0.406568</td>\n",
       "    </tr>\n",
       "    <tr>\n",
       "      <th>user_score</th>\n",
       "      <td>-0.031957</td>\n",
       "      <td>1.000000</td>\n",
       "      <td>0.557654</td>\n",
       "    </tr>\n",
       "    <tr>\n",
       "      <th>critic_score</th>\n",
       "      <td>0.406568</td>\n",
       "      <td>0.557654</td>\n",
       "      <td>1.000000</td>\n",
       "    </tr>\n",
       "  </tbody>\n",
       "</table>\n",
       "</div>"
      ],
      "text/plain": [
       "              total_sales  user_score  critic_score\n",
       "total_sales      1.000000   -0.031957      0.406568\n",
       "user_score      -0.031957    1.000000      0.557654\n",
       "critic_score     0.406568    0.557654      1.000000"
      ]
     },
     "execution_count": 19,
     "metadata": {},
     "output_type": "execute_result"
    }
   ],
   "source": [
    "fitered_ps4[['total_sales', 'user_score', 'critic_score']].corr()"
   ]
  },
  {
   "cell_type": "markdown",
   "metadata": {},
   "source": [
    "<div class=\"alert alert-block alert-success\">\n",
    "<b> Comentário do revisor: </b> <a class=\"tocSkip\"></a>\n",
    "\n",
    "A correlação entre score e vendas foi analisada. Aqui você pode perceber a importância de não preencher os atributos de `score` com valores fictícios.\n",
    "</div>"
   ]
  },
  {
   "cell_type": "markdown",
   "metadata": {},
   "source": [
    "As relações mais importantes sao entre total_sales com critic_score; user_score\te critic_score pelo fato de seus valores correlacionado ficarem proximo de 1"
   ]
  },
  {
   "cell_type": "code",
   "execution_count": 20,
   "metadata": {
    "scrolled": true
   },
   "outputs": [
    {
     "name": "stdout",
     "output_type": "stream",
     "text": [
      "PS3\n",
      "              total_sales  user_score  critic_score\n",
      "total_sales      1.000000    0.002394      0.334285\n",
      "user_score       0.002394    1.000000      0.599920\n",
      "critic_score     0.334285    0.599920      1.000000\n",
      "PS4\n",
      "              total_sales  user_score  critic_score\n",
      "total_sales      1.000000   -0.031957      0.406568\n",
      "user_score      -0.031957    1.000000      0.557654\n",
      "critic_score     0.406568    0.557654      1.000000\n"
     ]
    }
   ],
   "source": [
    "for platform in ['PS3', 'PS4']:\n",
    "    fitered_ps4 = games_recent.query('platform == @platform')\n",
    "    print(platform)\n",
    "    print(fitered_ps4[['total_sales', 'user_score', 'critic_score']].corr())"
   ]
  },
  {
   "cell_type": "code",
   "execution_count": 21,
   "metadata": {
    "scrolled": true
   },
   "outputs": [
    {
     "name": "stdout",
     "output_type": "stream",
     "text": [
      "genre\n",
      "Action          321.87\n",
      "Shooter         232.98\n",
      "Sports          150.65\n",
      "Role-Playing    145.89\n",
      "Misc             62.82\n",
      "Platform         42.63\n",
      "Racing           39.89\n",
      "Fighting         35.31\n",
      "Adventure        23.64\n",
      "Simulation       21.76\n",
      "Strategy         10.08\n",
      "Puzzle            3.17\n",
      "Name: total_sales, dtype: float64\n"
     ]
    }
   ],
   "source": [
    "group_by_genre = games_recent.groupby('genre')['total_sales'].sum().sort_values(ascending=False)\n",
    "print(group_by_genre)"
   ]
  },
  {
   "cell_type": "code",
   "execution_count": 22,
   "metadata": {},
   "outputs": [
    {
     "data": {
      "text/plain": [
       "<AxesSubplot:xlabel='genre', ylabel='total_sales'>"
      ]
     },
     "execution_count": 22,
     "metadata": {},
     "output_type": "execute_result"
    },
    {
     "data": {
      "image/png": "[encoded data removed]",
      "text/plain": [
       "<Figure size 720x504 with 1 Axes>"
      ]
     },
     "metadata": {
      "needs_background": "light"
     },
     "output_type": "display_data"
    }
   ],
   "source": [
    "plt.figure(figsize=(10,7))\n",
    "sns.boxplot(x = 'genre', y = 'total_sales', data = games_recent)"
   ]
  },
  {
   "cell_type": "markdown",
   "metadata": {},
   "source": [
    "<div class=\"alert alert-block alert-warning\">\n",
    "<b> Comentário do revisor: </b> <a class=\"tocSkip\"></a>\n",
    "\n",
    "A distribuição de vendas por gênero foi analisada usando um gráfico de caixas (boxplots). Sugestão: aqui você poderia adicionar um título ao gráfico acima.\n",
    "</div>"
   ]
  },
  {
   "cell_type": "markdown",
   "metadata": {},
   "source": [
    "O  genero quem mais vende disparado é o de Action já que seus pontos no grafico são masi disperso que os outro o que mostra uma variação de venda maior e consequentemente as vendas totais tambes se tornam maior, ao contrario do genero de Puzzle que aprensenta todos os seus numeros de vendas dentro de um certo limite "
   ]
  },
  {
   "cell_type": "code",
   "execution_count": 23,
   "metadata": {
    "scrolled": false
   },
   "outputs": [
    {
     "data": {
      "text/html": [
       "<div>\n",
       "<style scoped>\n",
       "    .dataframe tbody tr th:only-of-type {\n",
       "        vertical-align: middle;\n",
       "    }\n",
       "\n",
       "    .dataframe tbody tr th {\n",
       "        vertical-align: top;\n",
       "    }\n",
       "\n",
       "    .dataframe thead th {\n",
       "        text-align: right;\n",
       "    }\n",
       "</style>\n",
       "<table border=\"1\" class=\"dataframe\">\n",
       "  <thead>\n",
       "    <tr style=\"text-align: right;\">\n",
       "      <th></th>\n",
       "      <th>na_sales</th>\n",
       "      <th>eu_sales</th>\n",
       "      <th>jp_sales</th>\n",
       "    </tr>\n",
       "    <tr>\n",
       "      <th>platform</th>\n",
       "      <th></th>\n",
       "      <th></th>\n",
       "      <th></th>\n",
       "    </tr>\n",
       "  </thead>\n",
       "  <tbody>\n",
       "    <tr>\n",
       "      <th>3DS</th>\n",
       "      <td>38.20</td>\n",
       "      <td>30.96</td>\n",
       "      <td>67.81</td>\n",
       "    </tr>\n",
       "    <tr>\n",
       "      <th>DS</th>\n",
       "      <td>0.57</td>\n",
       "      <td>0.85</td>\n",
       "      <td>0.00</td>\n",
       "    </tr>\n",
       "    <tr>\n",
       "      <th>PC</th>\n",
       "      <td>11.11</td>\n",
       "      <td>25.36</td>\n",
       "      <td>0.00</td>\n",
       "    </tr>\n",
       "    <tr>\n",
       "      <th>PS3</th>\n",
       "      <td>63.50</td>\n",
       "      <td>67.81</td>\n",
       "      <td>23.35</td>\n",
       "    </tr>\n",
       "    <tr>\n",
       "      <th>PS4</th>\n",
       "      <td>108.74</td>\n",
       "      <td>141.09</td>\n",
       "      <td>15.96</td>\n",
       "    </tr>\n",
       "    <tr>\n",
       "      <th>PSP</th>\n",
       "      <td>0.00</td>\n",
       "      <td>0.17</td>\n",
       "      <td>3.29</td>\n",
       "    </tr>\n",
       "    <tr>\n",
       "      <th>PSV</th>\n",
       "      <td>5.04</td>\n",
       "      <td>6.10</td>\n",
       "      <td>18.59</td>\n",
       "    </tr>\n",
       "    <tr>\n",
       "      <th>Wii</th>\n",
       "      <td>6.56</td>\n",
       "      <td>5.93</td>\n",
       "      <td>0.05</td>\n",
       "    </tr>\n",
       "    <tr>\n",
       "      <th>WiiU</th>\n",
       "      <td>29.21</td>\n",
       "      <td>19.85</td>\n",
       "      <td>10.88</td>\n",
       "    </tr>\n",
       "    <tr>\n",
       "      <th>X360</th>\n",
       "      <td>81.66</td>\n",
       "      <td>42.52</td>\n",
       "      <td>0.51</td>\n",
       "    </tr>\n",
       "    <tr>\n",
       "      <th>XOne</th>\n",
       "      <td>93.12</td>\n",
       "      <td>51.59</td>\n",
       "      <td>0.34</td>\n",
       "    </tr>\n",
       "  </tbody>\n",
       "</table>\n",
       "</div>"
      ],
      "text/plain": [
       "          na_sales  eu_sales  jp_sales\n",
       "platform                              \n",
       "3DS          38.20     30.96     67.81\n",
       "DS            0.57      0.85      0.00\n",
       "PC           11.11     25.36      0.00\n",
       "PS3          63.50     67.81     23.35\n",
       "PS4         108.74    141.09     15.96\n",
       "PSP           0.00      0.17      3.29\n",
       "PSV           5.04      6.10     18.59\n",
       "Wii           6.56      5.93      0.05\n",
       "WiiU         29.21     19.85     10.88\n",
       "X360         81.66     42.52      0.51\n",
       "XOne         93.12     51.59      0.34"
      ]
     },
     "execution_count": 23,
     "metadata": {},
     "output_type": "execute_result"
    }
   ],
   "source": [
    "games_recent.groupby(['platform'])[['na_sales', 'eu_sales', 'jp_sales']].agg('sum')"
   ]
  },
  {
   "cell_type": "markdown",
   "metadata": {},
   "source": [
    "<div class=\"alert alert-block alert-success\">\n",
    "<b> Comentário do revisor: </b> <a class=\"tocSkip\"></a>\n",
    "\n",
    "A análise de gêneros mais lucrativos foi realizada\n",
    "</div>"
   ]
  },
  {
   "cell_type": "code",
   "execution_count": 24,
   "metadata": {
    "scrolled": false
   },
   "outputs": [
    {
     "data": {
      "text/html": [
       "<div>\n",
       "<style scoped>\n",
       "    .dataframe tbody tr th:only-of-type {\n",
       "        vertical-align: middle;\n",
       "    }\n",
       "\n",
       "    .dataframe tbody tr th {\n",
       "        vertical-align: top;\n",
       "    }\n",
       "\n",
       "    .dataframe thead th {\n",
       "        text-align: right;\n",
       "    }\n",
       "</style>\n",
       "<table border=\"1\" class=\"dataframe\">\n",
       "  <thead>\n",
       "    <tr style=\"text-align: right;\">\n",
       "      <th></th>\n",
       "      <th>na_sales</th>\n",
       "      <th>eu_sales</th>\n",
       "      <th>jp_sales</th>\n",
       "    </tr>\n",
       "    <tr>\n",
       "      <th>genre</th>\n",
       "      <th></th>\n",
       "      <th></th>\n",
       "      <th></th>\n",
       "    </tr>\n",
       "  </thead>\n",
       "  <tbody>\n",
       "    <tr>\n",
       "      <th>Action</th>\n",
       "      <td>126.05</td>\n",
       "      <td>118.13</td>\n",
       "      <td>40.49</td>\n",
       "    </tr>\n",
       "    <tr>\n",
       "      <th>Adventure</th>\n",
       "      <td>7.14</td>\n",
       "      <td>8.25</td>\n",
       "      <td>5.82</td>\n",
       "    </tr>\n",
       "    <tr>\n",
       "      <th>Fighting</th>\n",
       "      <td>15.55</td>\n",
       "      <td>8.55</td>\n",
       "      <td>7.65</td>\n",
       "    </tr>\n",
       "    <tr>\n",
       "      <th>Misc</th>\n",
       "      <td>27.49</td>\n",
       "      <td>20.04</td>\n",
       "      <td>9.20</td>\n",
       "    </tr>\n",
       "    <tr>\n",
       "      <th>Platform</th>\n",
       "      <td>18.14</td>\n",
       "      <td>15.58</td>\n",
       "      <td>4.79</td>\n",
       "    </tr>\n",
       "    <tr>\n",
       "      <th>Puzzle</th>\n",
       "      <td>0.83</td>\n",
       "      <td>1.00</td>\n",
       "      <td>1.18</td>\n",
       "    </tr>\n",
       "    <tr>\n",
       "      <th>Racing</th>\n",
       "      <td>12.96</td>\n",
       "      <td>20.19</td>\n",
       "      <td>2.30</td>\n",
       "    </tr>\n",
       "    <tr>\n",
       "      <th>Role-Playing</th>\n",
       "      <td>46.40</td>\n",
       "      <td>36.97</td>\n",
       "      <td>51.04</td>\n",
       "    </tr>\n",
       "    <tr>\n",
       "      <th>Shooter</th>\n",
       "      <td>109.74</td>\n",
       "      <td>87.86</td>\n",
       "      <td>6.61</td>\n",
       "    </tr>\n",
       "    <tr>\n",
       "      <th>Simulation</th>\n",
       "      <td>4.86</td>\n",
       "      <td>10.92</td>\n",
       "      <td>4.52</td>\n",
       "    </tr>\n",
       "    <tr>\n",
       "      <th>Sports</th>\n",
       "      <td>65.27</td>\n",
       "      <td>60.52</td>\n",
       "      <td>5.41</td>\n",
       "    </tr>\n",
       "    <tr>\n",
       "      <th>Strategy</th>\n",
       "      <td>3.28</td>\n",
       "      <td>4.22</td>\n",
       "      <td>1.77</td>\n",
       "    </tr>\n",
       "  </tbody>\n",
       "</table>\n",
       "</div>"
      ],
      "text/plain": [
       "              na_sales  eu_sales  jp_sales\n",
       "genre                                     \n",
       "Action          126.05    118.13     40.49\n",
       "Adventure         7.14      8.25      5.82\n",
       "Fighting         15.55      8.55      7.65\n",
       "Misc             27.49     20.04      9.20\n",
       "Platform         18.14     15.58      4.79\n",
       "Puzzle            0.83      1.00      1.18\n",
       "Racing           12.96     20.19      2.30\n",
       "Role-Playing     46.40     36.97     51.04\n",
       "Shooter         109.74     87.86      6.61\n",
       "Simulation        4.86     10.92      4.52\n",
       "Sports           65.27     60.52      5.41\n",
       "Strategy          3.28      4.22      1.77"
      ]
     },
     "execution_count": 24,
     "metadata": {},
     "output_type": "execute_result"
    }
   ],
   "source": [
    "games_recent.groupby(['genre'])[['na_sales', 'eu_sales', 'jp_sales']].agg('sum')"
   ]
  },
  {
   "cell_type": "markdown",
   "metadata": {},
   "source": [
    "Os 3 mais populares são os generos de Action, Shooter e Sports"
   ]
  },
  {
   "cell_type": "code",
   "execution_count": 25,
   "metadata": {
    "scrolled": true
   },
   "outputs": [
    {
     "data": {
      "text/html": [
       "<div>\n",
       "<style scoped>\n",
       "    .dataframe tbody tr th:only-of-type {\n",
       "        vertical-align: middle;\n",
       "    }\n",
       "\n",
       "    .dataframe tbody tr th {\n",
       "        vertical-align: top;\n",
       "    }\n",
       "\n",
       "    .dataframe thead th {\n",
       "        text-align: right;\n",
       "    }\n",
       "</style>\n",
       "<table border=\"1\" class=\"dataframe\">\n",
       "  <thead>\n",
       "    <tr style=\"text-align: right;\">\n",
       "      <th></th>\n",
       "      <th>na_sales</th>\n",
       "      <th>eu_sales</th>\n",
       "      <th>jp_sales</th>\n",
       "    </tr>\n",
       "    <tr>\n",
       "      <th>rating</th>\n",
       "      <th></th>\n",
       "      <th></th>\n",
       "      <th></th>\n",
       "    </tr>\n",
       "  </thead>\n",
       "  <tbody>\n",
       "    <tr>\n",
       "      <th>E</th>\n",
       "      <td>79.05</td>\n",
       "      <td>83.36</td>\n",
       "      <td>15.14</td>\n",
       "    </tr>\n",
       "    <tr>\n",
       "      <th>E10+</th>\n",
       "      <td>54.24</td>\n",
       "      <td>42.69</td>\n",
       "      <td>5.89</td>\n",
       "    </tr>\n",
       "    <tr>\n",
       "      <th>M</th>\n",
       "      <td>165.21</td>\n",
       "      <td>145.32</td>\n",
       "      <td>14.11</td>\n",
       "    </tr>\n",
       "    <tr>\n",
       "      <th>T</th>\n",
       "      <td>49.79</td>\n",
       "      <td>41.95</td>\n",
       "      <td>20.59</td>\n",
       "    </tr>\n",
       "  </tbody>\n",
       "</table>\n",
       "</div>"
      ],
      "text/plain": [
       "        na_sales  eu_sales  jp_sales\n",
       "rating                              \n",
       "E          79.05     83.36     15.14\n",
       "E10+       54.24     42.69      5.89\n",
       "M         165.21    145.32     14.11\n",
       "T          49.79     41.95     20.59"
      ]
     },
     "execution_count": 25,
     "metadata": {},
     "output_type": "execute_result"
    }
   ],
   "source": [
    "games_recent.groupby(['rating'])[['na_sales', 'eu_sales', 'jp_sales']].agg('sum')"
   ]
  },
  {
   "cell_type": "markdown",
   "metadata": {},
   "source": [
    "Os produtos com classificações 'E' vendem mais na Europa e tem a 2° maior media de vendas\n",
    "\n",
    "Os produtos com classificações 'E10+' vendem mais na America do nortee tem a menor media de vendas\n",
    "\n",
    "Os produtos com classificações 'M' vendem mais na America do norte e tem a maior media de vendas\n",
    "\n",
    "Os produtos com classificações 'T' vendem mais na America do norte e tem a 3° maior media de vendas"
   ]
  },
  {
   "cell_type": "markdown",
   "metadata": {},
   "source": [
    "<div class=\"alert alert-block alert-success\">\n",
    "<b> Comentário do revisor: </b> <a class=\"tocSkip\"></a>\n",
    "\n",
    "O perfil de usuário por região foi analisado\n",
    "</div>"
   ]
  },
  {
   "cell_type": "markdown",
   "metadata": {},
   "source": [
    "<div class=\"alert alert-block alert-danger\">\n",
    "<b> Comentário do revisor v2: </b> <a class=\"tocSkip\"></a>\n",
    "\n",
    "<s>Aqui você precisa definir formalmente as hipóteses nula e alternativa do teste acima. Dica: faça a definição no texto, antes da execução do teste</s>\n",
    "</div>"
   ]
  },
  {
   "cell_type": "code",
   "execution_count": 26,
   "metadata": {},
   "outputs": [
    {
     "name": "stdout",
     "output_type": "stream",
     "text": [
      "3.035892752408882\n",
      "1.9069968429360695\n",
      "valor-p: 0.14759594013430463\n",
      "Hipotese nula: As classificações das medias de usuarios são as mesmas\n"
     ]
    }
   ],
   "source": [
    "# Testando hipóteses de platform\n",
    "alpha=0.05\n",
    "\n",
    "a = games_recent.query('platform ==\"PC\"')['user_score'].dropna()\n",
    "b = games_recent.query('platform == \"XOne\"')['user_score'].dropna()\n",
    "\n",
    "print(a.var())\n",
    "print(b.var())\n",
    "\n",
    "results = st.ttest_ind( a, b , equal_var=False)\n",
    "\n",
    "print('valor-p:', results.pvalue)\n",
    "\n",
    "if results.pvalue < alpha:\n",
    "    print(\"Hipotese alternativa: As classificações das medias de usuarios não são as mesmas\")\n",
    "else:\n",
    "    print(\"Hipotese nula: As classificações das medias de usuarios são as mesmas\")"
   ]
  },
  {
   "cell_type": "markdown",
   "metadata": {},
   "source": [
    "<div class=\"alert alert-block alert-danger\">\n",
    "<b> Comentário do revisor v2: </b> <a class=\"tocSkip\"></a>\n",
    "\n",
    "<s>Aqui você precisa definir formalmente as hipóteses nula e alternativa do teste acima. Dica: faça a definição no texto, antes da execução do teste</s>\n",
    "</div>"
   ]
  },
  {
   "cell_type": "code",
   "execution_count": 27,
   "metadata": {
    "scrolled": true
   },
   "outputs": [
    {
     "name": "stdout",
     "output_type": "stream",
     "text": [
      "3.035892752408882\n",
      "1.9069968429360695\n",
      "valor-p: 1.4460039700704315e-20\n",
      "Hipotese alternativa: As classificações das medias de usuarios não são as mesmas\n"
     ]
    }
   ],
   "source": [
    "# Testando hipóteses de genre\n",
    "alpha=0.05\n",
    "\n",
    "c = games_recent.query('genre ==\"Action\"')['user_score'].dropna()\n",
    "d = games_recent.query('genre == \"Sports\"')['user_score'].dropna()\n",
    "\n",
    "print(a.var())\n",
    "print(b.var())\n",
    "\n",
    "results = st.ttest_ind( c, d , equal_var=False)\n",
    "\n",
    "print('valor-p:', results.pvalue)\n",
    "\n",
    "if results.pvalue < alpha:\n",
    "    print(\"Hipotese alternativa: As classificações das medias de usuarios não são as mesmas\")\n",
    "else:\n",
    "    print(\"Hipotese nula: As classificações das medias de usuarios são as mesmas\")"
   ]
  },
  {
   "cell_type": "markdown",
   "metadata": {},
   "source": [
    "Na hipote enre PC e Xbox One não foi possivel notar as diferença entre a media de classificação, mas entre genereos essa diferença foi perceptivel "
   ]
  },
  {
   "cell_type": "markdown",
   "metadata": {},
   "source": [
    "##Conclusão:\n",
    "\n",
    "As plataformas que mais venderam ate a ultima data analisada foram 'PS2', 'X360', 'PS3', 'Wii', 'DS'.\n",
    "\n",
    "Seus tempos de vida medio sao respectivamente 11, 11, 10, 10, 28. \n",
    "\n",
    "Os periodos no qual cada plataforma vendeu mais apos o seu lançamento foi apos 4, 5, 5, 3, 22.\n",
    "\n",
    "As vendas das principais plataformas mais recentes vem decaido de 2013 ate 2016\n",
    "\n",
    "A plataforma que mais vende segundo os dados mais recentes é o PS4\n",
    "\n",
    "Porém a plataforma que apresenta uma maior varação de vendas é o PS3\n",
    "\n",
    "Em relação ao genero o mais vendido foi o de Ação tendo apresentado também a maior variação de vendas"
   ]
  },
  {
   "cell_type": "markdown",
   "metadata": {},
   "source": [
    "<div class=\"alert alert-block alert-danger\">\n",
    "<b> Comentário do revisor: </b> <a class=\"tocSkip\"></a>\n",
    "<s>\n",
    "Você fez um bom trabalho nessa primeira versão. Entretanto, ainda precisamos executar algumas análises nesse projeto. Vou solicitar ajuda de um tutor para te auxiliar com o restante do projeto.\n",
    "</s>\n",
    "</div>"
   ]
  },
  {
   "cell_type": "markdown",
   "metadata": {},
   "source": [
    "<div class=\"alert alert-block alert-danger\">\n",
    "<b> Comentário do revisor v2: </b> <a class=\"tocSkip\"></a>\n",
    "\n",
    "<s>Aqui você precisa apresentar sua conclusão geral do projeto. Sugestão: você pode resumir as etapas implementadas nesse estudo e os resultados alcançados. Além disso, você pode discutir brevemente sobre as dificuldades enfrentadas e lições aprendidas durante esse trabalho.</s>\n",
    "</div>"
   ]
  }
 ],
 "metadata": {
  "kernelspec": {
   "display_name": "Python 3 (ipykernel)",
   "language": "python",
   "name": "python3"
  },
  "language_info": {
   "codemirror_mode": {
    "name": "ipython",
    "version": 3
   },
   "file_extension": ".py",
   "mimetype": "text/x-python",
   "name": "python",
   "nbconvert_exporter": "python",
   "pygments_lexer": "ipython3",
   "version": "3.9.19"
  },
  "toc": {
   "base_numbering": 1,
   "nav_menu": {},
   "number_sections": true,
   "sideBar": true,
   "skip_h1_title": true,
   "title_cell": "Table of Contents",
   "title_sidebar": "Contents",
   "toc_cell": false,
   "toc_position": {},
   "toc_section_display": true,
   "toc_window_display": false
  }
 },
 "nbformat": 4,
 "nbformat_minor": 2
}
